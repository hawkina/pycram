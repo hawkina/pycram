{
 "cells": [
  {
   "cell_type": "code",
   "execution_count": 10,
   "id": "initial_id",
   "metadata": {
    "collapsed": true,
    "ExecuteTime": {
     "end_time": "2024-07-28T12:45:31.055105779Z",
     "start_time": "2024-07-28T12:45:30.963745993Z"
    }
   },
   "outputs": [
    {
     "ename": "AttributeError",
     "evalue": "'NoneType' object has no attribute 'name'",
     "output_type": "error",
     "traceback": [
      "\u001B[0;31m---------------------------------------------------------------------------\u001B[0m",
      "\u001B[0;31mAttributeError\u001B[0m                            Traceback (most recent call last)",
      "Cell \u001B[0;32mIn[10], line 16\u001B[0m\n\u001B[1;32m     13\u001B[0m \u001B[38;5;28;01mimport\u001B[39;00m \u001B[38;5;21;01mcv2\u001B[39;00m\n\u001B[1;32m     14\u001B[0m rospy\u001B[38;5;241m.\u001B[39minit_node(\u001B[38;5;124m'\u001B[39m\u001B[38;5;124mpybullet_simulation_node\u001B[39m\u001B[38;5;124m'\u001B[39m, anonymous\u001B[38;5;241m=\u001B[39m\u001B[38;5;28;01mTrue\u001B[39;00m)\n\u001B[0;32m---> 16\u001B[0m robot \u001B[38;5;241m=\u001B[39m \u001B[43mObject\u001B[49m\u001B[43m(\u001B[49m\u001B[38;5;124;43m\"\u001B[39;49m\u001B[38;5;124;43mpr2\u001B[39;49m\u001B[38;5;124;43m\"\u001B[39;49m\u001B[43m,\u001B[49m\u001B[43m \u001B[49m\u001B[43mObjectType\u001B[49m\u001B[38;5;241;43m.\u001B[39;49m\u001B[43mROBOT\u001B[49m\u001B[43m,\u001B[49m\u001B[43m \u001B[49m\u001B[38;5;124;43m\"\u001B[39;49m\u001B[38;5;124;43mpr2.urdf\u001B[39;49m\u001B[38;5;124;43m\"\u001B[39;49m\u001B[43m,\u001B[49m\u001B[43m \u001B[49m\u001B[43mpose\u001B[49m\u001B[38;5;241;43m=\u001B[39;49m\u001B[43mPose\u001B[49m\u001B[43m(\u001B[49m\u001B[43m[\u001B[49m\u001B[38;5;241;43m1\u001B[39;49m\u001B[43m,\u001B[49m\u001B[43m \u001B[49m\u001B[38;5;241;43m2\u001B[39;49m\u001B[43m,\u001B[49m\u001B[43m \u001B[49m\u001B[38;5;241;43m0\u001B[39;49m\u001B[43m]\u001B[49m\u001B[43m)\u001B[49m\u001B[43m)\u001B[49m\n\u001B[1;32m     18\u001B[0m \u001B[38;5;66;03m# Create environmental objects\u001B[39;00m\n\u001B[1;32m     19\u001B[0m apartment \u001B[38;5;241m=\u001B[39m Object(\u001B[38;5;124m\"\u001B[39m\u001B[38;5;124mkitchen\u001B[39m\u001B[38;5;124m\"\u001B[39m, ObjectType\u001B[38;5;241m.\u001B[39mENVIRONMENT, \u001B[38;5;124m\"\u001B[39m\u001B[38;5;124mkitchen.urdf\u001B[39m\u001B[38;5;124m\"\u001B[39m)\n",
      "File \u001B[0;32m~/robocup_workspaces/pycram_ws/src/pycram/src/pycram/bullet_world.py:823\u001B[0m, in \u001B[0;36mObject.__init__\u001B[0;34m(self, name, type, path, pose, world, color, ignoreCachedFiles, id, customGeom)\u001B[0m\n\u001B[1;32m    821\u001B[0m \u001B[38;5;28;01mwith\u001B[39;00m \u001B[38;5;28mopen\u001B[39m(\u001B[38;5;28mself\u001B[39m\u001B[38;5;241m.\u001B[39mpath) \u001B[38;5;28;01mas\u001B[39;00m f:\n\u001B[1;32m    822\u001B[0m     \u001B[38;5;28mself\u001B[39m\u001B[38;5;241m.\u001B[39murdf_object \u001B[38;5;241m=\u001B[39m URDF\u001B[38;5;241m.\u001B[39mfrom_xml_string(f\u001B[38;5;241m.\u001B[39mread())\n\u001B[0;32m--> 823\u001B[0m     \u001B[38;5;28;01mif\u001B[39;00m \u001B[38;5;28mself\u001B[39m\u001B[38;5;241m.\u001B[39murdf_object\u001B[38;5;241m.\u001B[39mname \u001B[38;5;241m==\u001B[39m \u001B[43mrobot_description\u001B[49m\u001B[38;5;241;43m.\u001B[39;49m\u001B[43mname\u001B[49m \u001B[38;5;129;01mand\u001B[39;00m \u001B[38;5;129;01mnot\u001B[39;00m BulletWorld\u001B[38;5;241m.\u001B[39mrobot:\n\u001B[1;32m    824\u001B[0m         BulletWorld\u001B[38;5;241m.\u001B[39mrobot \u001B[38;5;241m=\u001B[39m \u001B[38;5;28mself\u001B[39m\n\u001B[1;32m    825\u001B[0m     \u001B[38;5;28;01melif\u001B[39;00m \u001B[38;5;28mself\u001B[39m\u001B[38;5;241m.\u001B[39murdf_object\u001B[38;5;241m.\u001B[39mname \u001B[38;5;241m==\u001B[39m \u001B[38;5;124m\"\u001B[39m\u001B[38;5;124miai-kitchen\u001B[39m\u001B[38;5;124m\"\u001B[39m \u001B[38;5;129;01mand\u001B[39;00m \u001B[38;5;129;01mnot\u001B[39;00m BulletWorld\u001B[38;5;241m.\u001B[39menvironment:\n",
      "\u001B[0;31mAttributeError\u001B[0m: 'NoneType' object has no attribute 'name'"
     ]
    }
   ],
   "source": [
    "from enum import Enum\n",
    "\n",
    "import rospy\n",
    "\n",
    "from pycram.process_module import real_robot, semi_real_robot, simulated_robot\n",
    "from pycram.ros.robot_state_updater import RobotStateUpdater\n",
    "from pycram.ros.viz_marker_publisher import VizMarkerPublisher\n",
    "from demos.pycram_serve_breakfast_demo.utils.misc import *\n",
    "import pybullet as p\n",
    "import pybullet_data\n",
    "import matplotlib.pyplot as plt\n",
    "import numpy as np\n",
    "import cv2\n",
    "rospy.init_node('pybullet_simulation_node', anonymous=True)\n",
    "\n",
    "robot = Object(\"pr2\", ObjectType.ROBOT, \"pr2.urdf\", pose=Pose([1, 2, 0]))\n",
    "\n",
    "# Create environmental objects\n",
    "apartment = Object(\"kitchen\", ObjectType.ENVIRONMENT, \"kitchen.urdf\")\n",
    "\n",
    "rospy.sleep(4)\n",
    "# Set the gravity in the simulation\n",
    "p.setGravity(0, 0, -9.8)\n",
    "\n",
    "# Run the simulation for 240 steps and render images\n",
    "images = []\n",
    "for i in range(240):\n",
    "    p.stepSimulation()\n",
    "    \n",
    "    # Render the image\n",
    "    view_matrix = p.computeViewMatrixFromYawPitchRoll(\n",
    "        cameraTargetPosition=[0, 0, 0],\n",
    "        distance=2,\n",
    "        yaw=0,\n",
    "        pitch=-30,\n",
    "        roll=0,\n",
    "        upAxisIndex=2\n",
    "    )\n",
    "    proj_matrix = p.computeProjectionMatrixFOV(\n",
    "        fov=60,\n",
    "        aspect=float(960) / 540,\n",
    "        nearVal=0.1,\n",
    "        farVal=100.0\n",
    "    )\n",
    "    (_, _, px, _, _) = p.getCameraImage(\n",
    "        width=960, height=540, viewMatrix=view_matrix, projectionMatrix=proj_matrix\n",
    "    )\n",
    "    \n",
    "    # Convert the image to a format suitable for OpenCV/Matplotlib\n",
    "    rgb_array = np.array(px, dtype=np.uint8).reshape((540, 960, 4))\n",
    "    rgb_array = rgb_array[:, :, :3]\n",
    "    \n",
    "    images.append(rgb_array)\n",
    "\n",
    "\n",
    "# Display the first frame\n",
    "plt.imshow(images[0])\n",
    "plt.show()\n"
   ]
  },
  {
   "cell_type": "code",
   "execution_count": null,
   "outputs": [],
   "source": [],
   "metadata": {
    "collapsed": false
   },
   "id": "3aec48fa19f5d4a0"
  }
 ],
 "metadata": {
  "kernelspec": {
   "display_name": "Python 3",
   "language": "python",
   "name": "python3"
  },
  "language_info": {
   "codemirror_mode": {
    "name": "ipython",
    "version": 2
   },
   "file_extension": ".py",
   "mimetype": "text/x-python",
   "name": "python",
   "nbconvert_exporter": "python",
   "pygments_lexer": "ipython2",
   "version": "2.7.6"
  }
 },
 "nbformat": 4,
 "nbformat_minor": 5
}
